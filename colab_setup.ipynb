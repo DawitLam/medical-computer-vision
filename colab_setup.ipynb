﻿{
  "cells": [
    {
      "cell_type": "markdown",
      "metadata": {},
      "source": [
        "# Medical Computer Vision on Google Colab\n\n",
        "This notebook allows you to run your medical computer vision project on Google Colab with free GPU access.\n\n",
        "[![Open In Colab](https://colab.research.google.com/assets/colab-badge.svg)](https://colab.research.google.com/github/DawitLam/medical-computer-vision/blob/main/colab_setup.ipynb)\n\n",
        "**Author**: Dawit L. Gulta\n",
        "**Repository**: https://github.com/DawitLam/medical-computer-vision"
      ]
    },
    {
      "cell_type": "code",
      "execution_count": null,
      "metadata": {},
      "outputs": [],
      "source": [
        "# GPU and Environment Setup\n",
        "import tensorflow as tf\n",
        "print(f\"TensorFlow version: {tf.__version__}\")\n",
        "print(f\"GPU Available: {len(tf.config.list_physical_devices('GPU')) > 0}\")\n\n",
        "# Clone repository\n",
        "!git clone https://github.com/DawitLam/medical-computer-vision.git\n",
        "%cd medical-computer-vision\n\n",
        "# Install dependencies\n",
        "!pip install -r requirements.txt"
      ]
    }
  ],
  "metadata": {
    "kernelspec": {"display_name": "Python 3", "language": "python", "name": "python3"},
    "language_info": {"name": "python", "version": "3.11.0"}
  },
  "nbformat": 4,
  "nbformat_minor": 4
}
