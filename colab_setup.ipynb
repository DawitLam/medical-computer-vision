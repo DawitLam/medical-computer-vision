{
  "cells": [
    {
      "cell_type": "markdown",
      "metadata": {},
      "source": [
        "## ⚠️ IMPORTANT: Package Installation Warnings\n",
        "\n",
        "**If you see warnings about \"restart runtime\" or \"ipykernel conflicts\":**\n",
        "\n",
        "1. ✅ **This is NORMAL and EXPECTED**\n",
        "2. 🔄 **Click \"Restart runtime\"** when prompted\n",
        "3. 🚀 **Re-run the setup cell below** after restart\n",
        "4. 📋 **Continue with your training**\n",
        "\n",
        "The warnings happen because Colab updates packages. Restarting ensures everything works properly!"
      ]
    },
    {
      "cell_type": "markdown",
      "metadata": {},
      "source": [
        "# GPU and Environment Setup (Run this FIRST after any restart)\n",
        "import tensorflow as tf\n",
        "print(f\"TensorFlow version: {tf.__version__}\")\n",
        "print(f\"GPU Available: {len(tf.config.list_physical_devices('GPU')) > 0}\")\n",
        "if len(tf.config.list_physical_devices('GPU')) > 0:\n",
        "    print(f\"GPU Details: {tf.config.list_physical_devices('GPU')}\")\n",
        "    print(\"🚀 GPU acceleration is ready!\")\n",
        "else:\n",
        "    print(\"⚠️  No GPU detected - training will use CPU\")\n",
        "\n",
        "# Check if we need to clone the repository\n",
        "import os\n",
        "if not os.path.exists('/content/medical-computer-vision'):\n",
        "    print(\"\\n📥 Cloning repository...\")\n",
        "    !git clone https://github.com/DawitLam/medical-computer-vision.git\n",
        "    print(\"✅ Repository cloned successfully!\")\n",
        "else:\n",
        "    print(\"✅ Repository already exists\")\n",
        "\n",
        "# Change to project directory\n",
        "%cd /content/medical-computer-vision\n",
        "\n",
        "# Install dependencies (this may trigger a restart warning - that's normal!)\n",
        "print(\"\\n📦 Installing dependencies...\")\n",
        "!pip install -r requirements.txt\n",
        "\n",
        "print(\"\\n🎉 Setup complete! If you see restart warnings above, please restart the runtime and re-run this cell.\")"
      ]
    },
    {
      "cell_type": "markdown",
      "metadata": {},
      "source": [
        "## 1. Environment Setup"
      ]
    },
    {
      "cell_type": "markdown",
      "metadata": {},
      "source": [
        "## 2. Quick Start Guide\n",
        "\n",
        "### 🔧 **Before Running:**\n",
        "1. **Enable GPU**: Runtime → Change runtime type → Hardware accelerator → **GPU** → Save\n",
        "2. **Run Cell 1**: Execute the setup cell above ⬆️\n",
        "3. **Follow the prompts**: The setup will guide you through each step\n",
        "\n",
        "### 📋 **What You'll Need:**\n",
        "- Google account (for Colab access)\n",
        "- Kaggle account (optional, for real datasets)\n",
        "- Your kaggle.json file (if using Kaggle datasets)"
      ]
    },
    {
      "cell_type": "markdown",
      "metadata": {},
      "source": [
        "## 3. Test Your Setup"
      ]
    },
    {
      "cell_type": "code",
      "execution_count": null,
      "metadata": {},
      "outputs": [],
      "source": [
        "# Test your medical computer vision setup\n",
        "print(\"🧪 Testing Medical Computer Vision Setup...\")\n",
        "\n",
        "# Test imports\n",
        "try:\n",
        "    import sys\n",
        "    sys.path.append('./src')\n",
        "    \n",
        "    from data.online_loader import OnlineMedicalDataLoader\n",
        "    from models.cnn_models import MedicalCNN\n",
        "    \n",
        "    print(\"✅ Project modules imported successfully!\")\n",
        "    \n",
        "    # Test data loader\n",
        "    loader = OnlineMedicalDataLoader()\n",
        "    print(\"✅ Data loader initialized\")\n",
        "    \n",
        "    # Test model creation\n",
        "    model = MedicalCNN(input_shape=(224, 224, 3), num_classes=2)\n",
        "    print(\"✅ CNN model created\")\n",
        "    \n",
        "    # Test synthetic data generation\n",
        "    img, label = loader.generate_synthetic_medical_image('covid_detection')\n",
        "    print(f\"✅ Generated test image: {img.shape}, Label: {label}\")\n",
        "    \n",
        "    print(\"\\n🎉 SUCCESS! Your medical computer vision environment is ready!\")\n",
        "    print(\"👩‍⚕️ You can now train models for:\")\n",
        "    print(\"   • COVID-19 detection\")\n",
        "    print(\"   • Lung cancer classification\") \n",
        "    print(\"   • Brain tumor detection\")\n",
        "    \n",
        "except Exception as e:\n",
        "    print(f\"❌ Setup error: {e}\")\n",
        "    print(\"💡 Try running the setup cell above first\")"
      ]
    },
    {
      "cell_type": "code",
      "execution_count": null,
      "metadata": {},
      "outputs": [],
      "source": [
        "# Step 1: Check GPU availability and system info\n",
        "import tensorflow as tf\n",
        "import os\n",
        "print(f\"🔥 TensorFlow version: {tf.__version__}\")\n",
        "print(f\"🚀 GPU Available: {len(tf.config.list_physical_devices('GPU')) > 0}\")\n",
        "print(f\"💾 Current directory: {os.getcwd()}\")\n",
        "\n",
        "# Step 2: Clone your repository \n",
        "print(\"\\n📥 Cloning medical computer vision repository...\")\n",
        "!git clone https://github.com/DawitLam/medical-computer-vision.git\n",
        "\n",
        "# Step 3: Change to project directory\n",
        "%cd medical-computer-vision\n",
        "print(f\"✅ Now in project directory: {os.getcwd()}\")\n",
        "\n",
        "# Step 4: Install dependencies\n",
        "print(\"\\n📦 Installing project dependencies...\")\n",
        "!pip install -r requirements.txt\n",
        "\n",
        "print(\"\\n🎉 Setup complete! Your medical CV project is ready to run on Colab!\")"
      ]
    },
    {
      "cell_type": "code",
      "execution_count": null,
      "metadata": {},
      "outputs": [],
      "source": [
        "# Mount Google Drive for persistent storage\n",
        "from google.colab import drive\n",
        "drive.mount('/content/drive')\n",
        "\n",
        "# Create project directory in Drive\n",
        "import os\n",
        "project_dir = '/content/drive/MyDrive/medical_cv_project'\n",
        "os.makedirs(project_dir, exist_ok=True)\n",
        "os.chdir(project_dir)\n",
        "print(f\"Working directory: {os.getcwd()}\")"
      ]
    },
    {
      "cell_type": "code",
      "execution_count": null,
      "metadata": {},
      "outputs": [],
      "source": [
        "# Clone the project repository\n",
        "!git clone https://github.com/DawitLam/medical-computer-vision.git\n",
        "%cd medical-computer-vision"
      ]
    },
    {
      "cell_type": "markdown",
      "metadata": {},
      "source": [
        "## 2. Install Dependencies"
      ]
    },
    {
      "cell_type": "code",
      "execution_count": null,
      "metadata": {},
      "outputs": [],
      "source": [
        "# Install project dependencies\n",
        "!pip install -r requirements.txt\n",
        "\n",
        "# Install additional packages for Colab\n",
        "!pip install kaggle\n",
        "\n",
        "# Verify installations\n",
        "import tensorflow as tf\n",
        "import numpy as np\n",
        "import cv2\n",
        "import pandas as pd\n",
        "import matplotlib.pyplot as plt\n",
        "\n",
        "print(\"✓ All packages installed successfully\")"
      ]
    },
    {
      "cell_type": "markdown",
      "metadata": {},
      "source": [
        "## 3. Data Loading and Model Training"
      ]
    },
    {
      "cell_type": "code",
      "execution_count": null,
      "metadata": {},
      "outputs": [],
      "source": [
        "# Import our data modules\n",
        "import sys\n",
        "sys.path.append('/content/medical-computer-vision/src')\n",
        "\n",
        "from data.online_loader import OnlineMedicalDataLoader\n",
        "from models.cnn_models import MedicalCNN\n",
        "from training.train import MedicalTrainer\n",
        "\n",
        "# Initialize components\n",
        "loader = OnlineMedicalDataLoader()\n",
        "print(\"✓ Medical CV modules loaded successfully\")"
      ]
    },
    {
      "cell_type": "code",
      "execution_count": null,
      "metadata": {},
      "outputs": [],
      "source": [
        "# Quick training example\n",
        "dataset_name = 'covid_detection'  # Change to: lung_cancer, brain_tumor\n",
        "\n",
        "# Load sample data\n",
        "X_sample, y_sample = loader.load_batch_streaming(dataset_name, 50)\n",
        "print(f\"Loaded {len(X_sample)} sample images\")\n",
        "\n",
        "# Create and train model\n",
        "model = MedicalCNN(input_shape=(224, 224, 3), num_classes=2)\n",
        "model.compile_model()\n",
        "\n",
        "print(\"✓ Model ready for training!\")\n",
        "print(\"Use the trainer for full training pipeline or customize as needed.\")"
      ]
    },
    {
      "cell_type": "markdown",
      "metadata": {},
      "source": [
        "## 🎉 Ready for Medical Computer Vision!\n",
        "\n",
        "Your environment is now set up for medical computer vision training on Google Colab.\n",
        "\n",
        "**Next Steps:**\n",
        "1. Choose your dataset (covid_detection, lung_cancer, brain_tumor)\n",
        "2. Adjust training parameters in the configs\n",
        "3. Run full training with GPU acceleration\n",
        "\n",
        "**Author**: Dawit L. Gulta  \n",
        "**Repository**: https://github.com/DawitLam/medical-computer-vision"
      ]
    }
  ],
  "metadata": {
    "kernelspec": {
      "display_name": "Python 3",
      "language": "python",
      "name": "python3"
    },
    "language_info": {
      "codemirror_mode": {
        "name": "ipython",
        "version": 3
      },
      "file_extension": ".py",
      "mimetype": "text/x-python",
      "name": "python",
      "nbconvert_exporter": "python",
      "pygments_lexer": "ipython3",
      "version": "3.11.0"
    }
  },
  "nbformat": 4,
  "nbformat_minor": 4
}
