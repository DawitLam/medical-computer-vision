﻿{
  "cells": [
    {
      "cell_type": "markdown",
      "metadata": {},
      "source": [
        "# Medical Computer Vision - Workspace Setup\n\n",
        "This notebook helps you set up and test your medical computer vision development environment.\n\n",
        "**Author**: Dawit L. Gulta  \n",
        "**Project**: Medical Computer Vision with CT Images"
      ]
    },
    {
      "cell_type": "code",
      "execution_count": null,
      "metadata": {},
      "outputs": [],
      "source": [
        "# Environment Check\n",
        "import os, sys\n",
        "from pathlib import Path\n",
        "import tensorflow as tf\n",
        "import numpy as np\n\n",
        "PROJECT_ROOT = Path.cwd().parent if Path.cwd().name == 'notebooks' else Path.cwd()\n",
        "sys.path.insert(0, str(PROJECT_ROOT / 'src'))\n\n",
        "print(f\"Project root: {PROJECT_ROOT}\")\n",
        "print(f\"TensorFlow: {tf.__version__}\")\n",
        "print(f\"NumPy: {np.__version__}\")"
      ]
    }
  ],
  "metadata": {
    "kernelspec": {"display_name": "Python 3", "language": "python", "name": "python3"},
    "language_info": {"name": "python", "version": "3.11.0"}
  },
  "nbformat": 4,
  "nbformat_minor": 4
}
